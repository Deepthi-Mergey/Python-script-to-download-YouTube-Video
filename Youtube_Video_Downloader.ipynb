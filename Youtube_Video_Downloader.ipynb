{
  "nbformat": 4,
  "nbformat_minor": 0,
  "metadata": {
    "colab": {
      "provenance": []
    },
    "kernelspec": {
      "name": "python3",
      "display_name": "Python 3"
    },
    "language_info": {
      "name": "python"
    }
  },
  "cells": [
    {
      "cell_type": "code",
      "source": [
        "pip install pytube3"
      ],
      "metadata": {
        "colab": {
          "base_uri": "https://localhost:8080/"
        },
        "id": "pC9HVJ_WspUw",
        "outputId": "f1156c56-1164-48fe-d91b-47cf8639a9ec"
      },
      "execution_count": 1,
      "outputs": [
        {
          "output_type": "stream",
          "name": "stdout",
          "text": [
            "Collecting pytube3\n",
            "  Downloading pytube3-9.6.4-py3-none-any.whl.metadata (16 kB)\n",
            "Requirement already satisfied: typing-extensions in /usr/local/lib/python3.10/dist-packages (from pytube3) (4.12.2)\n",
            "Downloading pytube3-9.6.4-py3-none-any.whl (38 kB)\n",
            "Installing collected packages: pytube3\n",
            "Successfully installed pytube3-9.6.4\n"
          ]
        }
      ]
    },
    {
      "cell_type": "code",
      "source": [
        "pip install --upgrade pytube"
      ],
      "metadata": {
        "colab": {
          "base_uri": "https://localhost:8080/"
        },
        "id": "Lk8pN4Q_stwl",
        "outputId": "4f136e40-6395-43c5-dec9-d3593b27b402"
      },
      "execution_count": 2,
      "outputs": [
        {
          "output_type": "stream",
          "name": "stdout",
          "text": [
            "Collecting pytube\n",
            "  Downloading pytube-15.0.0-py3-none-any.whl.metadata (5.0 kB)\n",
            "Downloading pytube-15.0.0-py3-none-any.whl (57 kB)\n",
            "\u001b[?25l   \u001b[90m━━━━━━━━━━━━━━━━━━━━━━━━━━━━━━━━━━━━━━━━\u001b[0m \u001b[32m0.0/57.6 kB\u001b[0m \u001b[31m?\u001b[0m eta \u001b[36m-:--:--\u001b[0m\r\u001b[2K   \u001b[90m━━━━━━━━━━━━━━━━━━━━━━━━━━━━━━━━━━━━━━━━\u001b[0m \u001b[32m57.6/57.6 kB\u001b[0m \u001b[31m2.3 MB/s\u001b[0m eta \u001b[36m0:00:00\u001b[0m\n",
            "\u001b[?25hInstalling collected packages: pytube\n",
            "Successfully installed pytube-15.0.0\n"
          ]
        }
      ]
    },
    {
      "cell_type": "code",
      "source": [
        "pip install yt-dlp"
      ],
      "metadata": {
        "colab": {
          "base_uri": "https://localhost:8080/"
        },
        "id": "dStlrAQOs0bO",
        "outputId": "ea08fc8a-b2fa-4ca4-ba00-380f7638318e"
      },
      "execution_count": 3,
      "outputs": [
        {
          "output_type": "stream",
          "name": "stdout",
          "text": [
            "Collecting yt-dlp\n",
            "  Downloading yt_dlp-2024.11.4-py3-none-any.whl.metadata (172 kB)\n",
            "\u001b[2K     \u001b[90m━━━━━━━━━━━━━━━━━━━━━━━━━━━━━━━━━━━━━━━━\u001b[0m \u001b[32m172.1/172.1 kB\u001b[0m \u001b[31m3.8 MB/s\u001b[0m eta \u001b[36m0:00:00\u001b[0m\n",
            "\u001b[?25hDownloading yt_dlp-2024.11.4-py3-none-any.whl (3.2 MB)\n",
            "\u001b[2K   \u001b[90m━━━━━━━━━━━━━━━━━━━━━━━━━━━━━━━━━━━━━━━━\u001b[0m \u001b[32m3.2/3.2 MB\u001b[0m \u001b[31m34.5 MB/s\u001b[0m eta \u001b[36m0:00:00\u001b[0m\n",
            "\u001b[?25hInstalling collected packages: yt-dlp\n",
            "Successfully installed yt-dlp-2024.11.4\n"
          ]
        }
      ]
    },
    {
      "cell_type": "code",
      "execution_count": 4,
      "metadata": {
        "id": "s4UbtKqysZPS"
      },
      "outputs": [],
      "source": [
        "from pytube import YouTube\n",
        "import yt_dlp"
      ]
    },
    {
      "cell_type": "code",
      "source": [
        "link = input(\"Enter youtube video\")\n",
        "yt = YouTube(link)"
      ],
      "metadata": {
        "colab": {
          "base_uri": "https://localhost:8080/"
        },
        "id": "MzwhMhEcswqC",
        "outputId": "c320cdfe-6a6c-4621-81f0-902ccd3fd325"
      },
      "execution_count": 5,
      "outputs": [
        {
          "name": "stdout",
          "output_type": "stream",
          "text": [
            "Enter youtube videohttps://www.youtube.com/shorts/slpN8UhFNo0\n"
          ]
        }
      ]
    },
    {
      "cell_type": "code",
      "source": [
        "!pip install yt-dlp\n",
        "import yt_dlp\n",
        "\n",
        "link = input(\"Enter youtube video URL: \")\n",
        "\n",
        "ydl_opts = {}\n",
        "with yt_dlp.YoutubeDL(ydl_opts) as ydl:\n",
        "    info_dict = ydl.extract_info(link, download=False)\n",
        "\n",
        "    # To print Title\n",
        "    print(\"Title :\", info_dict.get('title', 'N/A'))\n",
        "    # To get number of Views\n",
        "    print(\"Views :\", info_dict.get('view_count', 'N/A'))\n",
        "    # To get the Length of video\n",
        "    print(\"Duration :\", info_dict.get('duration', 'N/A'))\n",
        "    # To get Description\n",
        "    print(\"Description :\", info_dict.get('description', 'N/A'))\n",
        "    # Ratings are not directly available in yt-dlp\n",
        "    # You may need to use another method to get ratings\n",
        "    print(\"Ratings :\", 'Not directly available using yt-dlp')"
      ],
      "metadata": {
        "colab": {
          "base_uri": "https://localhost:8080/"
        },
        "id": "7q2Mt4pts_wJ",
        "outputId": "e89d283a-0388-40cd-876c-c878aec2d91c"
      },
      "execution_count": 6,
      "outputs": [
        {
          "output_type": "stream",
          "name": "stdout",
          "text": [
            "Requirement already satisfied: yt-dlp in /usr/local/lib/python3.10/dist-packages (2024.11.4)\n",
            "Enter youtube video URL: https://www.youtube.com/shorts/slpN8UhFNo0\n",
            "[youtube] Extracting URL: https://www.youtube.com/shorts/slpN8UhFNo0\n",
            "[youtube] slpN8UhFNo0: Downloading webpage\n",
            "[youtube] slpN8UhFNo0: Downloading ios player API JSON\n",
            "[youtube] slpN8UhFNo0: Downloading mweb player API JSON\n",
            "[youtube] slpN8UhFNo0: Downloading player 6f0e2ed6\n",
            "[youtube] slpN8UhFNo0: Downloading m3u8 information\n",
            "Title : Generative AI and Prompt Engineering: Top Skills to Dominate the Job Market in 2025 | NareshIT #ai\n",
            "Views : 1107\n",
            "Duration : 50\n",
            "Description : ✍️Enroll Now: https://t.ly/DSAI_25oct\n",
            "👉Attend a Free Demo On Full Stack DataScience & AI with Gen AI by Mr.Prakash Senapathi\n",
            "📅Demo On: 25th October @ 10:30 AM(IST)\n",
            "\n",
            "In this video, we dive into Generative AI and Prompt Engineering, two transformative technologies poised to dominate the job market in 2025. Discover why these skills are in high demand and how they're reshaping industries like software development and content creation. Whether you're a tech enthusiast or aiming to upskill, this video offers key insights into the future of work and the must-have skills for success in 2025.\n",
            "\n",
            "• Overview of Generative AI and its applications\n",
            "• Importance of Prompt Engineering in AI model development\n",
            "• Why these skills will lead to top career opportunities in 2025\n",
            "• How you can get started with these future-ready skills today\n",
            "\n",
            "Don't forget to like, share, and subscribe for more insights on the future of tech jobs!\n",
            "\n",
            "Generative AI and Prompt Engineering: Top Skills to Dominate the Job Market in 2025 | NareshIT \n",
            "\n",
            "1. Generative AI jobs 2025\n",
            "2. Prompt Engineering skills 2025\n",
            "3. Future tech careers\n",
            "4. AI job market 2025\n",
            "5. Generative AI vs traditional AI\n",
            "6. AI careers in 2025\n",
            "7. Top skills for AI jobs 2025\n",
            "8. What is Prompt Engineering?\n",
            "9. AI tools and careers 2025\n",
            "10. Learning Generative AI and Prompt Engineering\n",
            "\n",
            "#generativeai #promptengineering  #aicareers #futurejobs #aiengineering \n",
            "#futureofwork #aiandjobs #aiinnovation #skillsofthefuture #aiapplications #nextgenai #emergingtechnologies #aiandautomation #techfuture #digitaltransformation #aidevelopment #workplaceinnovation \n",
            "\n",
            "** For Online Training Registration: https://goo.gl/r6kJbB  ► Call: +91-8179191999\n",
            "\n",
            "Subscribe to our channel and hit the bell 🔔🔔🔔 icon to get video updates. \n",
            "\n",
            "💡 Visit Our Websites   \n",
            "     For Classroom Training: https://nareshit.in\n",
            "     For Online Training: https://nareshit.com\n",
            "\n",
            "--------------------------\n",
            "\n",
            "💡 About NareshIT:\n",
            "\n",
            "\"Naresh IT is having 20+ years of experience in software training industry and the best Software Training Institute for online training, classroom training, weekend training, corporate training of Data Science PYTHON,  AWS, DevOps, SalesForce, Java, Spring Boot, Micro Services, C#.NET, ASP.NET, Asp.Net MVC-6, Asp.Net MVC CORE, Oracle, SELENIUM, SQL Server, Selenium, Android, iPhone, C Language, C++, PHP, UNIX, LINUX and Digital Marketing in USA, Hyderabad, Chennai and Vijayawada, Bangalore India which provides online training across all the locations  \n",
            "\n",
            "--------------------------\n",
            "\n",
            "💡 Our Online Training Features:\n",
            "         🎈 Training with Real-Time Experts\n",
            "         🎈 Industry Specific Scenario’s\n",
            "         🎈 Flexible Timings\n",
            "         🎈 Soft Copy of Material\n",
            "         🎈 Share Videos of each and every session.\n",
            "\n",
            "--------------------------\n",
            "\n",
            "💡  Please write back to us at \n",
            "\n",
            "📧 us.training@nareshit.com/ 📧 online@nareshit.com or Call us at the USA: ☎+1404-232-9879 or India: ☎ +918179191999\n",
            "\n",
            "--------------------------\n",
            "\n",
            "💡  Check The Below Links\n",
            "\n",
            "► For Course Reg: https://goo.gl/r6kJbB\n",
            "► Subscribe to Our Channel:     https://goo.gl/q9ozyG\n",
            "► Like us on Facebook:      https://www.facebook.com/NareshIT\n",
            "► Follow us on Twitter:      https://twitter.com/nareshitech\n",
            "► Follow us on Linkedin:  https://goo.gl/CRBZ5F\n",
            "► Follow us on Instagram: https://goo.gl/3UXYK3\n",
            "Ratings : Not directly available using yt-dlp\n"
          ]
        }
      ]
    },
    {
      "cell_type": "code",
      "source": [],
      "metadata": {
        "id": "FHbe9BkYUUU4"
      },
      "execution_count": null,
      "outputs": []
    }
  ]
}
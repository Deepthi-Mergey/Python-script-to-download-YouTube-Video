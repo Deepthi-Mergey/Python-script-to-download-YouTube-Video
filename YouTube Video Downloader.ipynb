{
 "cells": [
  {
   "cell_type": "code",
   "execution_count": 1,
   "id": "5b3ba0b3-0a16-42a0-aea8-e85531227c81",
   "metadata": {},
   "outputs": [
    {
     "name": "stdout",
     "output_type": "stream",
     "text": [
      "Requirement already satisfied: yt-dlp in c:\\users\\shreesai\\anaconda3\\lib\\site-packages (2024.8.6)\n",
      "Requirement already satisfied: brotli in c:\\users\\shreesai\\anaconda3\\lib\\site-packages (from yt-dlp) (1.0.9)\n",
      "Requirement already satisfied: certifi in c:\\users\\shreesai\\anaconda3\\lib\\site-packages (from yt-dlp) (2024.6.2)\n",
      "Requirement already satisfied: mutagen in c:\\users\\shreesai\\anaconda3\\lib\\site-packages (from yt-dlp) (1.47.0)\n",
      "Requirement already satisfied: pycryptodomex in c:\\users\\shreesai\\anaconda3\\lib\\site-packages (from yt-dlp) (3.20.0)\n",
      "Requirement already satisfied: requests<3,>=2.32.2 in c:\\users\\shreesai\\anaconda3\\lib\\site-packages (from yt-dlp) (2.32.2)\n",
      "Requirement already satisfied: urllib3<3,>=1.26.17 in c:\\users\\shreesai\\anaconda3\\lib\\site-packages (from yt-dlp) (2.2.2)\n",
      "Requirement already satisfied: websockets>=12.0 in c:\\users\\shreesai\\anaconda3\\lib\\site-packages (from yt-dlp) (13.0.1)\n",
      "Requirement already satisfied: charset-normalizer<4,>=2 in c:\\users\\shreesai\\anaconda3\\lib\\site-packages (from requests<3,>=2.32.2->yt-dlp) (2.0.4)\n",
      "Requirement already satisfied: idna<4,>=2.5 in c:\\users\\shreesai\\anaconda3\\lib\\site-packages (from requests<3,>=2.32.2->yt-dlp) (3.7)\n"
     ]
    }
   ],
   "source": [
    "!pip install yt-dlp\n",
    "import yt_dlp"
   ]
  },
  {
   "cell_type": "code",
   "execution_count": 2,
   "id": "d83bbd3f-29b2-424d-884f-2bba6a739b14",
   "metadata": {},
   "outputs": [
    {
     "name": "stdin",
     "output_type": "stream",
     "text": [
      "Enter youtube video URL:  https://www.youtube.com/shorts/slpN8UhFNo0\n"
     ]
    },
    {
     "name": "stdout",
     "output_type": "stream",
     "text": [
      "[youtube] Extracting URL: https://www.youtube.com/shorts/slpN8UhFNo0\n",
      "[youtube] slpN8UhFNo0: Downloading webpage\n",
      "[youtube] slpN8UhFNo0: Downloading ios player API JSON\n",
      "[youtube] slpN8UhFNo0: Downloading web creator player API JSON\n",
      "[youtube] slpN8UhFNo0: Downloading m3u8 information\n",
      "Title : Generative AI and Prompt Engineering: Top Skills to Dominate the Job Market in 2025 | NareshIT #ai\n",
      "Views : 1103\n",
      "Duration : 50\n",
      "Description : ✍️Enroll Now: https://t.ly/DSAI_25oct\n",
      "👉Attend a Free Demo On Full Stack DataScience & AI with Gen AI by Mr.Prakash Senapathi\n",
      "📅Demo On: 25th October @ 10:30 AM(IST)\n",
      "\n",
      "In this video, we dive into Generative AI and Prompt Engineering, two transformative technologies poised to dominate the job market in 2025. Discover why these skills are in high demand and how they're reshaping industries like software development and content creation. Whether you're a tech enthusiast or aiming to upskill, this video offers key insights into the future of work and the must-have skills for success in 2025.\n",
      "\n",
      "• Overview of Generative AI and its applications\n",
      "• Importance of Prompt Engineering in AI model development\n",
      "• Why these skills will lead to top career opportunities in 2025\n",
      "• How you can get started with these future-ready skills today\n",
      "\n",
      "Don't forget to like, share, and subscribe for more insights on the future of tech jobs!\n",
      "\n",
      "Generative AI and Prompt Engineering: Top Skills to Dominate the Job Market in 2025 | NareshIT \n",
      "\n",
      "1. Generative AI jobs 2025\n",
      "2. Prompt Engineering skills 2025\n",
      "3. Future tech careers\n",
      "4. AI job market 2025\n",
      "5. Generative AI vs traditional AI\n",
      "6. AI careers in 2025\n",
      "7. Top skills for AI jobs 2025\n",
      "8. What is Prompt Engineering?\n",
      "9. AI tools and careers 2025\n",
      "10. Learning Generative AI and Prompt Engineering\n",
      "\n",
      "#generativeai #promptengineering  #aicareers #futurejobs #aiengineering \n",
      "#futureofwork #aiandjobs #aiinnovation #skillsofthefuture #aiapplications #nextgenai #emergingtechnologies #aiandautomation #techfuture #digitaltransformation #aidevelopment #workplaceinnovation \n",
      "\n",
      "** For Online Training Registration: https://goo.gl/r6kJbB  ► Call: +91-8179191999\n",
      "\n",
      "Subscribe to our channel and hit the bell 🔔🔔🔔 icon to get video updates. \n",
      "\n",
      "💡 Visit Our Websites   \n",
      "     For Classroom Training: https://nareshit.in\n",
      "     For Online Training: https://nareshit.com\n",
      "\n",
      "--------------------------\n",
      "\n",
      "💡 About NareshIT:\n",
      "\n",
      "\"Naresh IT is having 20+ years of experience in software training industry and the best Software Training Institute for online training, classroom training, weekend training, corporate training of Data Science PYTHON,  AWS, DevOps, SalesForce, Java, Spring Boot, Micro Services, C#.NET, ASP.NET, Asp.Net MVC-6, Asp.Net MVC CORE, Oracle, SELENIUM, SQL Server, Selenium, Android, iPhone, C Language, C++, PHP, UNIX, LINUX and Digital Marketing in USA, Hyderabad, Chennai and Vijayawada, Bangalore India which provides online training across all the locations  \n",
      "\n",
      "--------------------------\n",
      "\n",
      "💡 Our Online Training Features:\n",
      "         🎈 Training with Real-Time Experts\n",
      "         🎈 Industry Specific Scenario’s\n",
      "         🎈 Flexible Timings\n",
      "         🎈 Soft Copy of Material\n",
      "         🎈 Share Videos of each and every session.\n",
      "\n",
      "--------------------------\n",
      "\n",
      "💡  Please write back to us at \n",
      "\n",
      "📧 us.training@nareshit.com/ 📧 online@nareshit.com or Call us at the USA: ☎+1404-232-9879 or India: ☎ +918179191999\n",
      "\n",
      "--------------------------\n",
      "\n",
      "💡  Check The Below Links\n",
      "\n",
      "► For Course Reg: https://goo.gl/r6kJbB\n",
      "► Subscribe to Our Channel:     https://goo.gl/q9ozyG\n",
      "► Like us on Facebook:      https://www.facebook.com/NareshIT\n",
      "► Follow us on Twitter:      https://twitter.com/nareshitech\n",
      "► Follow us on Linkedin:  https://goo.gl/CRBZ5F\n",
      "► Follow us on Instagram: https://goo.gl/3UXYK3\n",
      "Ratings : Not directly available using yt-dlp\n"
     ]
    }
   ],
   "source": [
    "link = input(\"Enter youtube video URL: \")\n",
    "\n",
    "ydl_opts = {}\n",
    "with yt_dlp.YoutubeDL(ydl_opts) as ydl:\n",
    "    info_dict = ydl.extract_info(link, download=False)\n",
    "    \n",
    "    # To print Title\n",
    "    print(\"Title :\", info_dict.get('title', 'N/A'))\n",
    "    # To get number of Views\n",
    "    print(\"Views :\", info_dict.get('view_count', 'N/A'))\n",
    "    # To get the Length of video\n",
    "    print(\"Duration :\", info_dict.get('duration', 'N/A'))\n",
    "    # To get Description\n",
    "    print(\"Description :\", info_dict.get('description', 'N/A'))\n",
    "    # Ratings are not directly available in yt-dlp\n",
    "    # You may need to use another method to get ratings\n",
    "    print(\"Ratings :\", 'Not directly available using yt-dlp')"
   ]
  },
  {
   "cell_type": "code",
   "execution_count": null,
   "id": "a4fff7ca-3c22-4d76-b599-b62485dedaa9",
   "metadata": {},
   "outputs": [],
   "source": []
  }
 ],
 "metadata": {
  "kernelspec": {
   "display_name": "Python 3 (ipykernel)",
   "language": "python",
   "name": "python3"
  },
  "language_info": {
   "codemirror_mode": {
    "name": "ipython",
    "version": 3
   },
   "file_extension": ".py",
   "mimetype": "text/x-python",
   "name": "python",
   "nbconvert_exporter": "python",
   "pygments_lexer": "ipython3",
   "version": "3.12.4"
  }
 },
 "nbformat": 4,
 "nbformat_minor": 5
}
